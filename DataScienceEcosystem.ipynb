{
 "cells": [
  {
   "cell_type": "markdown",
   "id": "abd66405-ed90-4e60-89c9-e5b285fe84ce",
   "metadata": {},
   "source": [
    "# Data Science Tools and Ecosystem"
   ]
  },
  {
   "cell_type": "markdown",
   "id": "c06d6f6b-7ba0-4331-81f9-d262b7a7f27b",
   "metadata": {},
   "source": [
    "## In this notebook, Data Science Tools and Ecosystem are summarized.\n"
   ]
  },
  {
   "cell_type": "markdown",
   "id": "984a8b6e-3b3f-4f8a-b7bf-b3290161b090",
   "metadata": {},
   "source": [
    "__Objectives:__\n",
    "* Python\n",
    "* R\n",
    "* SQL\n",
    "* Julia"
   ]
  },
  {
   "cell_type": "markdown",
   "id": "d6f756d1-9264-4b41-8f30-5894047e893a",
   "metadata": {},
   "source": [
    "## Some of the popular languages that Data Scientists use are:\n",
    "1. Pyhton\n",
    "2. SQL\n",
    "3. R\n",
    "4. Scala\n"
   ]
  },
  {
   "cell_type": "markdown",
   "id": "847dd884-45be-4586-a37f-b2d77a865d5c",
   "metadata": {},
   "source": [
    "## Some of the commonly used libraries used by Data Scientists include:\n",
    "1. Numpy\n",
    "2. Panda\n",
    "3. Matplotlib\n",
    "4. Seaborn"
   ]
  },
  {
   "cell_type": "markdown",
   "id": "d4c07fb6-fa3d-4f97-a8c5-d5aa3e95995e",
   "metadata": {},
   "source": [
    "| Data Science Tools |\n",
    "| ------------------ | \n",
    "| RStudio            |\n",
    "|Jupyter Notebook/Lab|\n",
    "|Virtual Studio Code |\n"
   ]
  },
  {
   "cell_type": "markdown",
   "id": "b1206766-6d48-43de-b6f6-fce737fbc6eb",
   "metadata": {},
   "source": [
    "### Below are a few examples of evaluating arithmetic expressions in Python\n"
   ]
  },
  {
   "cell_type": "code",
   "execution_count": 7,
   "id": "e1dcf64a-45ca-4a27-9c84-8434c32da255",
   "metadata": {},
   "outputs": [
    {
     "name": "stdout",
     "output_type": "stream",
     "text": [
      "17\n"
     ]
    }
   ],
   "source": [
    "#This is a simple arithmetic expression to multiply  and then add integers.\n",
    "expression = (3*4)+5\n",
    "print(expression)"
   ]
  },
  {
   "cell_type": "code",
   "execution_count": 6,
   "id": "10d2bb89-4347-42d6-a558-5cdb0fdfe614",
   "metadata": {},
   "outputs": [
    {
     "name": "stdout",
     "output_type": "stream",
     "text": [
      "3.3333333333333335\n"
     ]
    }
   ],
   "source": [
    "#This will convert 200 minutes to hours by diving by 60.\n",
    "minutes_to_hours = 200/60\n",
    "print(minutes_to_hours)"
   ]
  },
  {
   "cell_type": "markdown",
   "id": "3c676b4b-2aa2-45b3-a856-ba71b02c2c34",
   "metadata": {},
   "source": [
    "## Author\n",
    "David Oluyomi"
   ]
  },
  {
   "cell_type": "code",
   "execution_count": null,
   "id": "0614fa0f-a2fd-45e9-92be-abb9afa003da",
   "metadata": {},
   "outputs": [],
   "source": []
  }
 ],
 "metadata": {
  "kernelspec": {
   "display_name": "Python 3 (ipykernel)",
   "language": "python",
   "name": "python3"
  },
  "language_info": {
   "codemirror_mode": {
    "name": "ipython",
    "version": 3
   },
   "file_extension": ".py",
   "mimetype": "text/x-python",
   "name": "python",
   "nbconvert_exporter": "python",
   "pygments_lexer": "ipython3",
   "version": "3.13.5"
  }
 },
 "nbformat": 4,
 "nbformat_minor": 5
}
